{
 "cells": [
  {
   "cell_type": "code",
   "execution_count": 17,
   "metadata": {},
   "outputs": [],
   "source": [
    "import numpy as np\n",
    "import pandas as pd\n",
    "import matplotlib.pyplot as plt\n",
    "%matplotlib inline\n",
    "import seaborn as sns"
   ]
  },
  {
   "cell_type": "code",
   "execution_count": 38,
   "metadata": {},
   "outputs": [],
   "source": [
    "#Import dataset\n",
    "zomato = pd.read_csv('C:/Users/GL-FF-CR1/Desktop/zomato.csv')\n",
    "\n",
    "zomato = zomato.loc[:100,:]\n",
    "\n",
    "Question1 = zomato.loc[:,['location',\n",
    "                          'rest_type',\n",
    "                          'cuisines',\n",
    "                          'listed_in(type)',\n",
    "                          'approx_cost(for two people)',\n",
    "                          'votes']]"
   ]
  },
  {
   "cell_type": "code",
   "execution_count": 39,
   "metadata": {},
   "outputs": [
    {
     "data": {
      "text/plain": [
       "location                       object\n",
       "rest_type                      object\n",
       "cuisines                       object\n",
       "listed_in(type)                object\n",
       "approx_cost(for two people)    object\n",
       "votes                           int64\n",
       "dtype: object"
      ]
     },
     "execution_count": 39,
     "metadata": {},
     "output_type": "execute_result"
    }
   ],
   "source": [
    "Question1.dtypes"
   ]
  },
  {
   "cell_type": "code",
   "execution_count": 40,
   "metadata": {},
   "outputs": [
    {
     "data": {
      "text/plain": [
       "0      800.0\n",
       "1      800.0\n",
       "2      800.0\n",
       "3      300.0\n",
       "4      600.0\n",
       "5      600.0\n",
       "6      800.0\n",
       "7      600.0\n",
       "8      700.0\n",
       "9      550.0\n",
       "10     500.0\n",
       "11     600.0\n",
       "12     500.0\n",
       "13     450.0\n",
       "14     800.0\n",
       "15     650.0\n",
       "16     800.0\n",
       "17     700.0\n",
       "18     300.0\n",
       "19     400.0\n",
       "20     400.0\n",
       "21     500.0\n",
       "22     900.0\n",
       "23     600.0\n",
       "24     300.0\n",
       "25     600.0\n",
       "26     200.0\n",
       "27     500.0\n",
       "28     550.0\n",
       "29     550.0\n",
       "       ...  \n",
       "71     300.0\n",
       "72     150.0\n",
       "73     700.0\n",
       "74     300.0\n",
       "75     500.0\n",
       "76     150.0\n",
       "77     300.0\n",
       "78     500.0\n",
       "79     350.0\n",
       "80     500.0\n",
       "81     400.0\n",
       "82     200.0\n",
       "83     700.0\n",
       "84     100.0\n",
       "85     300.0\n",
       "86     600.0\n",
       "87     200.0\n",
       "88     500.0\n",
       "89     250.0\n",
       "90     500.0\n",
       "91     400.0\n",
       "92     200.0\n",
       "93     300.0\n",
       "94     600.0\n",
       "95     800.0\n",
       "96     250.0\n",
       "97     950.0\n",
       "98     300.0\n",
       "99     400.0\n",
       "100    300.0\n",
       "Name: approx_cost(for two people), Length: 101, dtype: float64"
      ]
     },
     "execution_count": 40,
     "metadata": {},
     "output_type": "execute_result"
    }
   ],
   "source": [
    "#Replacing string ',' to float\n",
    "Question1['approx_cost(for two people)']=Question1['approx_cost(for two people)'].astype(str)\n",
    "\n",
    "Question1['approx_cost(for two people)']=Question1['approx_cost(for two people)'].str.replace(',','')\n",
    "\n",
    "Question1['approx_cost(for two people)'].astype('float')"
   ]
  },
  {
   "cell_type": "code",
   "execution_count": 41,
   "metadata": {},
   "outputs": [
    {
     "data": {
      "text/plain": [
       "array(['Banashankari', 'Basavanagudi', 'Mysore Road', 'Jayanagar',\n",
       "       'Kumaraswamy Layout', 'Rajarajeshwari Nagar', 'Vijay Nagar'],\n",
       "      dtype=object)"
      ]
     },
     "execution_count": 41,
     "metadata": {},
     "output_type": "execute_result"
    }
   ],
   "source": [
    "#Find unique locations\n",
    "Question1['location'].unique()"
   ]
  },
  {
   "cell_type": "code",
   "execution_count": 42,
   "metadata": {},
   "outputs": [
    {
     "data": {
      "text/plain": [
       "array(['Casual Dining', 'Cafe, Casual Dining', 'Quick Bites',\n",
       "       'Casual Dining, Cafe', 'Cafe', 'Quick Bites, Cafe',\n",
       "       'Cafe, Quick Bites', 'Delivery', 'Mess', 'Dessert Parlor',\n",
       "       'Bakery, Dessert Parlor', 'Pub', 'Bakery', 'Takeaway, Delivery',\n",
       "       'Fine Dining', 'Beverage Shop', 'Sweet Shop', 'Bar'], dtype=object)"
      ]
     },
     "execution_count": 42,
     "metadata": {},
     "output_type": "execute_result"
    }
   ],
   "source": [
    "Question1['rest_type'].unique()"
   ]
  },
  {
   "cell_type": "code",
   "execution_count": 43,
   "metadata": {},
   "outputs": [
    {
     "data": {
      "text/plain": [
       "array(['North Indian, Mughlai, Chinese', 'Chinese, North Indian, Thai',\n",
       "       'Cafe, Mexican, Italian', 'South Indian, North Indian',\n",
       "       'North Indian, Rajasthani', 'North Indian',\n",
       "       'North Indian, South Indian, Andhra, Chinese',\n",
       "       'Pizza, Cafe, Italian', 'Cafe, Italian, Continental',\n",
       "       'Cafe, Mexican, Italian, Momos, Beverages', 'Cafe',\n",
       "       'Cafe, Chinese, Continental, Italian', 'Cafe, Continental',\n",
       "       'Cafe, Fast Food, Continental, Chinese, Momos',\n",
       "       'Chinese, Cafe, Italian', 'Cafe, Italian, American',\n",
       "       'Cafe, French, North Indian', 'Cafe, Pizza, Fast Food, Beverages',\n",
       "       'Cafe, Fast Food', 'Italian, Fast Food, Cafe, European',\n",
       "       'Cafe, Bakery', 'Cafe, South Indian', 'Cafe, Fast Food, Beverages',\n",
       "       'North Indian, Cafe, Chinese, Fast Food', 'Cafe, Italian',\n",
       "       'North Indian, Fast Food, Chinese, Burger', 'Bakery, Desserts',\n",
       "       'Pizza', 'North Indian, Biryani, Fast Food', 'Biryani',\n",
       "       'North Indian, Chinese, Fast Food', 'Chinese, Thai, Momos',\n",
       "       'North Indian, Mughlai, South Indian, Chinese', 'South Indian',\n",
       "       'Street Food, Fast Food', 'Burger, Fast Food', 'Pizza, Fast Food',\n",
       "       'North Indian, Continental, Italian', 'North Indian, Chinese',\n",
       "       'North Indian, Chinese, Biryani, Rolls', 'Chinese, Thai',\n",
       "       'North Indian, Chinese, Momos, Rolls',\n",
       "       'Fast Food, Street Food, Beverages', 'Ice Cream, Desserts',\n",
       "       'Biryani, North Indian, Chinese, Andhra, South Indian',\n",
       "       'Italian, Continental, Fast Food, Chinese, Momos',\n",
       "       'Healthy Food, Chinese, Biryani, North Indian, Continental, Salad, American, Burger',\n",
       "       'Biryani, Fast Food',\n",
       "       'Asian, Korean, Indonesian, Japanese, Chinese, Thai, Momos',\n",
       "       'Fast Food, Burger', 'Desserts, Beverages',\n",
       "       'Italian, North Indian, Mexican',\n",
       "       'Goan, Seafood, North Indian, Chinese, Biryani', 'Chinese',\n",
       "       'Bakery', 'North Indian, Kebab, Chinese, Fast Food',\n",
       "       'Continental, Italian, Mexican, North Indian, Chinese, Steak',\n",
       "       'Burger, Fast Food, Beverages', 'Italian, North Indian, Biryani',\n",
       "       'Biryani, Chinese, Kebab',\n",
       "       'Chinese, Continental, Italian, North Indian',\n",
       "       'Fast Food, Rolls, Momos', 'Biryani, South Indian', 'Fast Food',\n",
       "       'South Indian, Chinese, North Indian',\n",
       "       'Seafood, North Indian, Chinese, Andhra, Biryani, Kebab',\n",
       "       'Beverages, Desserts, Ice Cream', 'Mithai, Street Food',\n",
       "       'South Indian, Chinese', 'Biryani, North Indian, Chinese',\n",
       "       'Desserts', 'Ice Cream', 'South Indian, North Indian, Chinese',\n",
       "       'Fast Food, Bakery', 'North Indian, Iranian',\n",
       "       'Fast Food, Street Food',\n",
       "       'Ice Cream, Desserts, Beverages, Sandwich'], dtype=object)"
      ]
     },
     "execution_count": 43,
     "metadata": {},
     "output_type": "execute_result"
    }
   ],
   "source": [
    "Question1['cuisines'].unique()"
   ]
  },
  {
   "cell_type": "code",
   "execution_count": 44,
   "metadata": {},
   "outputs": [
    {
     "data": {
      "text/plain": [
       "array(['Buffet', 'Cafes', 'Delivery'], dtype=object)"
      ]
     },
     "execution_count": 44,
     "metadata": {},
     "output_type": "execute_result"
    }
   ],
   "source": [
    "Question1['listed_in(type)'].unique()"
   ]
  },
  {
   "cell_type": "code",
   "execution_count": 45,
   "metadata": {},
   "outputs": [
    {
     "data": {
      "text/html": [
       "<div>\n",
       "<style scoped>\n",
       "    .dataframe tbody tr th:only-of-type {\n",
       "        vertical-align: middle;\n",
       "    }\n",
       "\n",
       "    .dataframe tbody tr th {\n",
       "        vertical-align: top;\n",
       "    }\n",
       "\n",
       "    .dataframe thead th {\n",
       "        text-align: right;\n",
       "    }\n",
       "</style>\n",
       "<table border=\"1\" class=\"dataframe\">\n",
       "  <thead>\n",
       "    <tr style=\"text-align: right;\">\n",
       "      <th></th>\n",
       "      <th>votes</th>\n",
       "    </tr>\n",
       "  </thead>\n",
       "  <tbody>\n",
       "    <tr>\n",
       "      <th>count</th>\n",
       "      <td>101.000000</td>\n",
       "    </tr>\n",
       "    <tr>\n",
       "      <th>mean</th>\n",
       "      <td>373.415842</td>\n",
       "    </tr>\n",
       "    <tr>\n",
       "      <th>std</th>\n",
       "      <td>764.449086</td>\n",
       "    </tr>\n",
       "    <tr>\n",
       "      <th>min</th>\n",
       "      <td>0.000000</td>\n",
       "    </tr>\n",
       "    <tr>\n",
       "      <th>25%</th>\n",
       "      <td>31.000000</td>\n",
       "    </tr>\n",
       "    <tr>\n",
       "      <th>50%</th>\n",
       "      <td>93.000000</td>\n",
       "    </tr>\n",
       "    <tr>\n",
       "      <th>75%</th>\n",
       "      <td>354.000000</td>\n",
       "    </tr>\n",
       "    <tr>\n",
       "      <th>max</th>\n",
       "      <td>4884.000000</td>\n",
       "    </tr>\n",
       "  </tbody>\n",
       "</table>\n",
       "</div>"
      ],
      "text/plain": [
       "             votes\n",
       "count   101.000000\n",
       "mean    373.415842\n",
       "std     764.449086\n",
       "min       0.000000\n",
       "25%      31.000000\n",
       "50%      93.000000\n",
       "75%     354.000000\n",
       "max    4884.000000"
      ]
     },
     "execution_count": 45,
     "metadata": {},
     "output_type": "execute_result"
    }
   ],
   "source": [
    "Question1.describe()"
   ]
  },
  {
   "cell_type": "markdown",
   "metadata": {},
   "source": [
    "# Plotting Bar charts"
   ]
  },
  {
   "cell_type": "code",
   "execution_count": 46,
   "metadata": {},
   "outputs": [
    {
     "data": {
      "text/plain": [
       "<BarContainer object of 101 artists>"
      ]
     },
     "execution_count": 46,
     "metadata": {},
     "output_type": "execute_result"
    },
    {
     "data": {
      "image/png": "[encoded data removed]",
      "text/plain": [
       "<Figure size 432x288 with 1 Axes>"
      ]
     },
     "metadata": {
      "needs_background": "light"
     },
     "output_type": "display_data"
    }
   ],
   "source": [
    "plt.bar(Question1['cuisines'],Question1['approx_cost(for two people)'])"
   ]
  },
  {
   "cell_type": "code",
   "execution_count": 47,
   "metadata": {},
   "outputs": [
    {
     "data": {
      "text/plain": [
       "<BarContainer object of 101 artists>"
      ]
     },
     "execution_count": 47,
     "metadata": {},
     "output_type": "execute_result"
    },
    {
     "data": {
      "image/png": "[encoded data removed]",
      "text/plain": [
       "<Figure size 432x288 with 1 Axes>"
      ]
     },
     "metadata": {
      "needs_background": "light"
     },
     "output_type": "display_data"
    }
   ],
   "source": [
    "plt.bar(Question1['listed_in(type)'],Question1['approx_cost(for two people)'])"
   ]
  },
  {
   "cell_type": "code",
   "execution_count": 48,
   "metadata": {},
   "outputs": [
    {
     "data": {
      "text/plain": [
       "<BarContainer object of 101 artists>"
      ]
     },
     "execution_count": 48,
     "metadata": {},
     "output_type": "execute_result"
    },
    {
     "data": {
      "image/png": "[encoded data removed]",
      "text/plain": [
       "<Figure size 432x288 with 1 Axes>"
      ]
     },
     "metadata": {
      "needs_background": "light"
     },
     "output_type": "display_data"
    }
   ],
   "source": [
    "plt.bar(Question1['location'],Question1['approx_cost(for two people)'])"
   ]
  },
  {
   "cell_type": "code",
   "execution_count": 49,
   "metadata": {},
   "outputs": [
    {
     "data": {
      "text/plain": [
       "<BarContainer object of 101 artists>"
      ]
     },
     "execution_count": 49,
     "metadata": {},
     "output_type": "execute_result"
    },
    {
     "data": {
      "image/png": "[encoded data removed]",
      "text/plain": [
       "<Figure size 432x288 with 1 Axes>"
      ]
     },
     "metadata": {
      "needs_background": "light"
     },
     "output_type": "display_data"
    }
   ],
   "source": [
    "plt.bar(Question1['listed_in(type)'],Question1['approx_cost(for two people)'])"
   ]
  },
  {
   "cell_type": "code",
   "execution_count": 50,
   "metadata": {},
   "outputs": [
    {
     "data": {
      "text/plain": [
       "<BarContainer object of 101 artists>"
      ]
     },
     "execution_count": 50,
     "metadata": {},
     "output_type": "execute_result"
    },
    {
     "data": {
      "image/png": "[encoded data removed]",
      "text/plain": [
       "<Figure size 432x288 with 1 Axes>"
      ]
     },
     "metadata": {
      "needs_background": "light"
     },
     "output_type": "display_data"
    }
   ],
   "source": [
    "plt.bar(Question1['rest_type'],Question1['approx_cost(for two people)'])"
   ]
  },
  {
   "cell_type": "code",
   "execution_count": 51,
   "metadata": {},
   "outputs": [
    {
     "data": {
      "text/plain": [
       "<BarContainer object of 101 artists>"
      ]
     },
     "execution_count": 51,
     "metadata": {},
     "output_type": "execute_result"
    },
    {
     "data": {
      "image/png": "[encoded data removed]",
      "text/plain": [
       "<Figure size 432x288 with 1 Axes>"
      ]
     },
     "metadata": {
      "needs_background": "light"
     },
     "output_type": "display_data"
    }
   ],
   "source": [
    "plt.bar(Question1['location'],Question1['votes'])"
   ]
  },
  {
   "cell_type": "code",
   "execution_count": 52,
   "metadata": {},
   "outputs": [
    {
     "data": {
      "text/plain": [
       "<BarContainer object of 101 artists>"
      ]
     },
     "execution_count": 52,
     "metadata": {},
     "output_type": "execute_result"
    },
    {
     "data": {
      "image/png": "[encoded data removed]",
      "text/plain": [
       "<Figure size 432x288 with 1 Axes>"
      ]
     },
     "metadata": {
      "needs_background": "light"
     },
     "output_type": "display_data"
    }
   ],
   "source": [
    "plt.bar(Question1['rest_type'],Question1['votes'])"
   ]
  },
  {
   "cell_type": "code",
   "execution_count": 53,
   "metadata": {},
   "outputs": [
    {
     "data": {
      "text/plain": [
       "<BarContainer object of 101 artists>"
      ]
     },
     "execution_count": 53,
     "metadata": {},
     "output_type": "execute_result"
    },
    {
     "data": {
      "image/png": "[encoded data removed]",
      "text/plain": [
       "<Figure size 432x288 with 1 Axes>"
      ]
     },
     "metadata": {
      "needs_background": "light"
     },
     "output_type": "display_data"
    }
   ],
   "source": [
    "plt.bar(Question1['listed_in(type)'],Question1['votes'])"
   ]
  },
  {
   "cell_type": "code",
   "execution_count": 54,
   "metadata": {},
   "outputs": [
    {
     "data": {
      "text/plain": [
       "<BarContainer object of 101 artists>"
      ]
     },
     "execution_count": 54,
     "metadata": {},
     "output_type": "execute_result"
    },
    {
     "data": {
      "image/png": "[encoded data removed]",
      "text/plain": [
       "<Figure size 432x288 with 1 Axes>"
      ]
     },
     "metadata": {
      "needs_background": "light"
     },
     "output_type": "display_data"
    }
   ],
   "source": [
    "plt.bar(Question1['cuisines'],Question1['votes'])"
   ]
  },
  {
   "cell_type": "code",
   "execution_count": 55,
   "metadata": {},
   "outputs": [
    {
     "data": {
      "text/plain": [
       "<matplotlib.collections.PathCollection at 0x280119fdf98>"
      ]
     },
     "execution_count": 55,
     "metadata": {},
     "output_type": "execute_result"
    },
    {
     "data": {
      "image/png": "[encoded data removed]",
      "text/plain": [
       "<Figure size 432x288 with 1 Axes>"
      ]
     },
     "metadata": {
      "needs_background": "light"
     },
     "output_type": "display_data"
    }
   ],
   "source": [
    "plt.scatter(Question1['approx_cost(for two people)'],Question1['votes'])"
   ]
  },
  {
   "cell_type": "code",
   "execution_count": 63,
   "metadata": {},
   "outputs": [
    {
     "data": {
      "text/html": [
       "<div>\n",
       "<style scoped>\n",
       "    .dataframe tbody tr th:only-of-type {\n",
       "        vertical-align: middle;\n",
       "    }\n",
       "\n",
       "    .dataframe tbody tr th {\n",
       "        vertical-align: top;\n",
       "    }\n",
       "\n",
       "    .dataframe thead th {\n",
       "        text-align: right;\n",
       "    }\n",
       "</style>\n",
       "<table border=\"1\" class=\"dataframe\">\n",
       "  <thead>\n",
       "    <tr style=\"text-align: right;\">\n",
       "      <th></th>\n",
       "      <th>votes</th>\n",
       "    </tr>\n",
       "  </thead>\n",
       "  <tbody>\n",
       "    <tr>\n",
       "      <th>votes</th>\n",
       "      <td>1.0</td>\n",
       "    </tr>\n",
       "  </tbody>\n",
       "</table>\n",
       "</div>"
      ],
      "text/plain": [
       "       votes\n",
       "votes    1.0"
      ]
     },
     "execution_count": 63,
     "metadata": {},
     "output_type": "execute_result"
    }
   ],
   "source": [
    "#data[[\"engine-size\", \"price\"]].corr()\n",
    "Question1[['approx_cost(for two people)',\n",
    "           'votes']].corr()"
   ]
  },
  {
   "cell_type": "code",
   "execution_count": null,
   "metadata": {},
   "outputs": [],
   "source": []
  }
 ],
 "metadata": {
  "kernelspec": {
   "display_name": "Python 3",
   "language": "python",
   "name": "python3"
  },
  "language_info": {
   "codemirror_mode": {
    "name": "ipython",
    "version": 3
   },
   "file_extension": ".py",
   "mimetype": "text/x-python",
   "name": "python",
   "nbconvert_exporter": "python",
   "pygments_lexer": "ipython3",
   "version": "3.7.3"
  }
 },
 "nbformat": 4,
 "nbformat_minor": 2
}
